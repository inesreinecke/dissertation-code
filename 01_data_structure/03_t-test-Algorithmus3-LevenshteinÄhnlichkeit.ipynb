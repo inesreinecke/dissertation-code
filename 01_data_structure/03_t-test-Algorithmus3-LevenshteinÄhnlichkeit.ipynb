{
 "cells": [
  {
   "cell_type": "markdown",
   "id": "f51d57c6-a3e6-4279-90bc-f4668fc3f74e",
   "metadata": {},
   "source": [
    "Dieser Quellcode ist Bestandteil der Dissertation von Ines Reinecke\n",
    "vorgelegt am 11.07.2023 der Technischen Universität Dresden, Medizinische Fakultät\n",
    "\n",
    "Dieser Code enthält \n",
    "\n",
    "* Eingelesene Daten - Datensatz DS-Top1000\n",
    "* Generieren von zwei Dataframes für die korrekten und nicht korrekten Ergebnisse von Algorithmus 3\n",
    "* statistische Informationen generieren für die beiden neuen Dataframes in Bezug auf Algorithmus 3 und den Ähnlichkeitswert von Levenshtein\n",
    "* Durchführung eines beidseitigen t-tests um zu prüfen, ob sich die Ähnlichkeitswerte des Algorithmus 3 für die beiden Ergebnismengen signifikant unterscheiden\n"
   ]
  },
  {
   "cell_type": "code",
   "execution_count": 1,
   "id": "6007e732-46bd-42be-9664-7cd9facae6e4",
   "metadata": {},
   "outputs": [],
   "source": [
    "import pandas as pd\n",
    "import numpy as np\n",
    "import pandas_profiling\n",
    "import plotly.graph_objects as go\n",
    "import plotly.express as px\n",
    "from chord import Chord\n",
    "import seaborn as sns\n",
    "import matplotlib\n",
    "import matplotlib.pyplot as plt\n",
    "from scipy.stats import ttest_ind\n",
    "import random\n",
    "from sklearn import preprocessing\n",
    "from matplotlib_venn import venn2\n",
    "from matplotlib_venn import venn3"
   ]
  },
  {
   "cell_type": "code",
   "execution_count": 2,
   "id": "aa34cd81-ad2f-4105-8ab3-cfe634956e24",
   "metadata": {},
   "outputs": [],
   "source": [
    "#Einlesen der Daten, die häufigsten 1000 Freitexte der Medikationsverordnungen (Datensatz DS-Top1000)\n",
    "\n",
    "df = pd.read_csv('../data_in/FINAL_TOP1000.csv',skipinitialspace=True, sep=\";\")\n"
   ]
  },
  {
   "cell_type": "code",
   "execution_count": 3,
   "id": "d9cbaa2c-634c-4835-8687-dbbc39041f9c",
   "metadata": {},
   "outputs": [],
   "source": [
    "# Vorbereitung der Daten\n",
    "# Änderung der folgenden Spalten zu nummerischen Werten\n",
    "\n",
    "df[\"eval1\"] = pd.to_numeric(df[\"eval1\"])\n",
    "df[\"eval2\"] = pd.to_numeric(df[\"eval2\"])\n",
    "df[\"eval31\"] = pd.to_numeric(df[\"eval31\"])\n",
    "df[\"eval32\"] = pd.to_numeric(df[\"eval32\"])\n",
    "df[\"eval33\"] = pd.to_numeric(df[\"eval33\"])\n",
    "df[\"LEV1\"] = pd.to_numeric(df[\"LEV1\"])\n",
    "df[\"LEV2\"] = pd.to_numeric(df[\"LEV2\"])\n",
    "df[\"LEV3\"] = pd.to_numeric(df[\"LEV3\"])\n",
    "\n",
    "### Normalisierung des Dataframes\n",
    "subset = df.filter(['LEV1','eval31'], axis=1)\n",
    "subset['LEV1'] = subset.index\n",
    "subset = subset.reset_index(drop=True)\n",
    "\n",
    "scaler = preprocessing.MinMaxScaler()\n",
    "names = subset.columns\n",
    "d = scaler.fit_transform(subset)\n",
    "scaled_df = pd.DataFrame(d, columns=names)\n",
    "scaled_df\n",
    "\n",
    "#Gruppierung Datensatz DS-Top1000, basierend auf der Häufigkeit der ATC Codes die erkannt wurden von Algorithmus 3\n",
    "\n",
    "groupedATC = df.groupby('STEP31').count()\n",
    "groupedATC = groupedATC.sort_values('eval31', ascending=False)"
   ]
  },
  {
   "cell_type": "code",
   "execution_count": 4,
   "id": "7315529b-9a19-4a0a-bf3d-2e3e8c021bc5",
   "metadata": {},
   "outputs": [],
   "source": [
    "#create two new datasets for wrong and corret results of algorithm 3, preparation for t-test \n",
    "#Generierung von zwei neuen Dataframes, die jeweils alle Einträge enthalten, die für Algorithmus 3 ein korrektes und ein inkorrektes Ergebnis erzeugt haben\n",
    "\n",
    "#Dataframe mit den Einträgen, die FALSCH waren (Algorithmus 3)\n",
    "lev31FALSE = df.loc[df['eval31'] == 0.0]\n",
    "\n",
    "#Dataframe mit den Einträgen, die RICHTIG waren (Algorithmus 3)\n",
    "lev31TRUE = df.loc[df['eval31'] == 1.0]"
   ]
  },
  {
   "cell_type": "code",
   "execution_count": 5,
   "id": "bdfe8446-baff-4c5f-afe4-6788ec4040a9",
   "metadata": {},
   "outputs": [
    {
     "data": {
      "text/plain": [
       "count    766.000000\n",
       "mean      84.284595\n",
       "std       14.856875\n",
       "min       21.000000\n",
       "25%       76.000000\n",
       "50%       87.000000\n",
       "75%       96.000000\n",
       "max      100.000000\n",
       "Name: LEV1, dtype: float64"
      ]
     },
     "execution_count": 5,
     "metadata": {},
     "output_type": "execute_result"
    }
   ],
   "source": [
    "#Generieren der statistischen Kenngrößen für das Dataframe mit den korrekten Ergebnissen von Algorithmus 3\n",
    "#(Anzahl, Durchschnitt, Standardabweichung, Min, Max und die Quantile)\n",
    "#bezogen auf den Ähnlichkeitwert\n",
    "\n",
    "lev31TRUE[\"LEV1\"].describe(include='all')"
   ]
  },
  {
   "cell_type": "code",
   "execution_count": 6,
   "id": "090560da-07ea-46ca-a657-bd547b607c12",
   "metadata": {},
   "outputs": [
    {
     "data": {
      "text/plain": [
       "count    234.000000\n",
       "mean      67.183761\n",
       "std       15.520594\n",
       "min       29.000000\n",
       "25%       55.000000\n",
       "50%       63.000000\n",
       "75%       75.000000\n",
       "max      100.000000\n",
       "Name: LEV1, dtype: float64"
      ]
     },
     "execution_count": 6,
     "metadata": {},
     "output_type": "execute_result"
    }
   ],
   "source": [
    "#Generieren der statistischen Kenngrößen für das Dataframe mit den korrekten Ergebnissen von Algorithmus 3\n",
    "#(Anzahl, Durchschnitt, Standardabweichung, Min, Max und die Quantile)\n",
    "#bezogen auf den Ähnlichkeitwert\n",
    "\n",
    "lev31FALSE[\"LEV1\"].describe(include='all')"
   ]
  },
  {
   "cell_type": "code",
   "execution_count": 7,
   "id": "b2a78e15-6208-4dbf-bc7f-0547263a98a0",
   "metadata": {},
   "outputs": [
    {
     "name": "stdout",
     "output_type": "stream",
     "text": [
      "Ergebnis t-test Vergleich der beiden Ergebnismengen wenn Algorithmus 3 korrekt oder falsch gearbeitet hat:  Ttest_indResult(statistic=14.897946966519024, pvalue=1.0360007176052793e-39)\n"
     ]
    }
   ],
   "source": [
    "# Änderung der Einträge in der Spalte \"eval31\" von 1.0 auf true und 0.0 auf false\n",
    "# Vorbereitung der Durchführung des t-tests \n",
    "\n",
    "true = df[df['eval31']==1.0]\n",
    "false = df[df['eval31']==0.0]\n",
    "\n",
    "# Zweiseitiger t-Test, um zu prüfen, ob sich die beiden Gruppen, wahr und falsch, auf der Grundlage des Levenshtein Ähnlichkeitswerte signifikant unterscheiden\n",
    "\n",
    "ergebnis_ttest = ttest_ind(true['LEV1'], false['LEV1'], equal_var=False)\n",
    "\n",
    "print(\"Ergebnis t-test Vergleich der beiden Ergebnismengen wenn Algorithmus 3 korrekt oder falsch gearbeitet hat: \",ergebnis_ttest)\n"
   ]
  },
  {
   "cell_type": "code",
   "execution_count": null,
   "id": "7f67ddc1-bc44-4088-a79f-3361b9ec257a",
   "metadata": {},
   "outputs": [],
   "source": []
  },
  {
   "cell_type": "code",
   "execution_count": null,
   "id": "25f64f33-8072-4db9-9e36-755f51161c4b",
   "metadata": {},
   "outputs": [],
   "source": []
  }
 ],
 "metadata": {
  "kernelspec": {
   "display_name": "Python 3 (ipykernel)",
   "language": "python",
   "name": "python3"
  },
  "language_info": {
   "codemirror_mode": {
    "name": "ipython",
    "version": 3
   },
   "file_extension": ".py",
   "mimetype": "text/x-python",
   "name": "python",
   "nbconvert_exporter": "python",
   "pygments_lexer": "ipython3",
   "version": "3.9.1"
  }
 },
 "nbformat": 4,
 "nbformat_minor": 5
}
