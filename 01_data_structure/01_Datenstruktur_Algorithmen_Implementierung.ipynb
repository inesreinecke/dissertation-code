{
 "cells": [
  {
   "cell_type": "markdown",
   "id": "cc0393c0-52be-45c5-9e69-4f21f11e46ac",
   "metadata": {},
   "source": [
    "Dieser Quellcode ist Bestandteil der Dissertation von Ines Reinecke\n",
    "vorgelegt am 11.07.2023 der Technischen Universität Dresden, Medizinische Fakultät\n",
    "\n",
    "Dieser Code enthält \n",
    "\n",
    "* die initiale Datenanalyse (siehe Kapitel 3.4.2 \"Systematische Analyse der Medikationsdaten am UKD\")\n",
    "* Verbesserung der Datenstruktur (siehe Kapitel 3.5.2 \"Maßnahmen - Datenstruktur\") \n",
    "\n",
    "Zunächst werden die Rohdaten aus Datensatz DS-Med (Medikationsverordnungen) und Datensatz DS-Katalog (Arzneimittelkatalog des UKD) eingelesen.\n",
    "Anschließend wird der Datensatz DS-Med wie folgt im Detail geprüft:\n",
    "* Summe der Arzneimittelverordnungen der Jahre 2016 bis 2020\n",
    "* Ermittlung der fehlenden Arzneimitteleinträge in den Arzneimittelverordnungsdaten \n",
    "* Ermittlung der Menge der unstrukturierten Arzneimittelverordnungsdaten\n",
    "* Gruppierung der unstrukturierten Arzneimittelverschreibungsdaten nach Medikationstext und Berechnung der Häufigkeit\n",
    "* Überprüfung der Gesamtzahl der verschiedenen unstrukturierten Einträge für den Medikationstext\n",
    "* Verteilung der Freitext-Arzneimittelverordnungen nach Häufigkeit auswerten\n",
    "* Prüfung, ob die ersten 1000 häufigsten unstrukturierten Arzneimittelverordnungen für die manuelle Auswertung ausreichen, um das Ziel von 80% aller Arzneimittelverordnungen mit ATC-Code zu erreichen \n",
    "* Ausführen des Algorithmus auf den unstrukturierten Daten zur Bestimmung des ATC-Codes in STEP1 (Regex-Medikamentenprodukt), STEP2 (Inhaltsstoff) und STEP 3 (NLP basierend auf Ähnlichkeit mit Levenshtein-Distanz) - STEP 3 liefert bis zu 3 verschiedene vorgeschlagene ATC-Codes\n",
    "* Ergebnisse zurückgeben und die häufigsten 1000 Einträge und Ergebnisse für Algorithmus 1, 2 und 3 erstellen\n",
    "* Vorbereitung der Zahlen für die Visualisierung im Venn Chart, Übereinstimmung der Ergebnisse der Algorithmen\n"
   ]
  },
  {
   "cell_type": "code",
   "execution_count": 1,
   "id": "d34d9ed3-551d-40f7-8662-13de02324e0a",
   "metadata": {},
   "outputs": [
    {
     "name": "stderr",
     "output_type": "stream",
     "text": [
      "/Library/Frameworks/Python.framework/Versions/3.9/lib/python3.9/site-packages/fuzzywuzzy/fuzz.py:11: UserWarning: Using slow pure-python SequenceMatcher. Install python-Levenshtein to remove this warning\n",
      "  warnings.warn('Using slow pure-python SequenceMatcher. Install python-Levenshtein to remove this warning')\n"
     ]
    }
   ],
   "source": [
    "import pandas as pd\n",
    "import numpy as np\n",
    "import os\n",
    "from fuzzywuzzy import fuzz, process\n",
    "import re\n",
    "from typing import List\n",
    "from tqdm import tqdm\n",
    "import seaborn as sns\n",
    "import matplotlib.pyplot as plt\n",
    "from matplotlib_venn import venn2, venn3, venn3_circles\n",
    "import matplotlib.ticker as ticker\n",
    "from matplotlib.ticker import FormatStrFormatter, StrMethodFormatter\n",
    "import warnings\n",
    "warnings.filterwarnings(\"ignore\")"
   ]
  },
  {
   "cell_type": "code",
   "execution_count": 6,
   "id": "b2d6976f-a6b0-4623-83d8-568913c5b910",
   "metadata": {},
   "outputs": [],
   "source": [
    "\n",
    "# lesen Datensatz DS-Katalog\n",
    "df_catalogue = pd.read_csv('../data_in/DS-Katalog.csv', sep=\";\", encoding = \"UTF-8\").fillna(str())\n",
    "\n",
    "# lesen Datensatz DS-Med\n",
    "df_med_orders = pd.read_csv('../data_in/DS-Med-initial.csv', skipinitialspace=True, low_memory=False, lineterminator='\\n').fillna(str())\n",
    "\n",
    "ATC = 'ATC-DIM'\n",
    "ABDA = 'ABDA-Bezeichnung'\n",
    "\n",
    "# Vorbereitung der Daten\n",
    "\n",
    "df_med_orders['MEDICATION'] = df_med_orders['MEDICATION'].astype(str)\n",
    "\n",
    "df_catalogue['ATC-WHO'] = [i[1:] for i in df_catalogue['ATC-WHO']]\n",
    "\n",
    "df_med_orders_complete = df_med_orders\n"
   ]
  },
  {
   "cell_type": "code",
   "execution_count": 4,
   "id": "e66461ff-cac4-4241-8d17-d63de09c986e",
   "metadata": {},
   "outputs": [
    {
     "name": "stdout",
     "output_type": "stream",
     "text": [
      "total number of orders for all years from 2016 until 2020:  1768153\n"
     ]
    },
    {
     "data": {
      "text/html": [
       "<div>\n",
       "<style scoped>\n",
       "    .dataframe tbody tr th:only-of-type {\n",
       "        vertical-align: middle;\n",
       "    }\n",
       "\n",
       "    .dataframe tbody tr th {\n",
       "        vertical-align: top;\n",
       "    }\n",
       "\n",
       "    .dataframe thead th {\n",
       "        text-align: right;\n",
       "    }\n",
       "</style>\n",
       "<table border=\"1\" class=\"dataframe\">\n",
       "  <thead>\n",
       "    <tr style=\"text-align: right;\">\n",
       "      <th></th>\n",
       "      <th>MED_CASE_NR</th>\n",
       "      <th>MEDICATION</th>\n",
       "      <th>ATC_CODE</th>\n",
       "      <th>START_DATE</th>\n",
       "      <th>END_DATE</th>\n",
       "      <th>UNIT</th>\n",
       "    </tr>\n",
       "    <tr>\n",
       "      <th>CAT_MATCH</th>\n",
       "      <th></th>\n",
       "      <th></th>\n",
       "      <th></th>\n",
       "      <th></th>\n",
       "      <th></th>\n",
       "      <th></th>\n",
       "    </tr>\n",
       "  </thead>\n",
       "  <tbody>\n",
       "    <tr>\n",
       "      <th>Match</th>\n",
       "      <td>843980</td>\n",
       "      <td>843980</td>\n",
       "      <td>843980</td>\n",
       "      <td>843980</td>\n",
       "      <td>843980</td>\n",
       "      <td>843980</td>\n",
       "    </tr>\n",
       "    <tr>\n",
       "      <th>No Match</th>\n",
       "      <td>924173</td>\n",
       "      <td>924173</td>\n",
       "      <td>924173</td>\n",
       "      <td>924173</td>\n",
       "      <td>924173</td>\n",
       "      <td>924173</td>\n",
       "    </tr>\n",
       "  </tbody>\n",
       "</table>\n",
       "</div>"
      ],
      "text/plain": [
       "           MED_CASE_NR  MEDICATION  ATC_CODE  START_DATE  END_DATE    UNIT\n",
       "CAT_MATCH                                                                 \n",
       "Match           843980      843980    843980      843980    843980  843980\n",
       "No Match        924173      924173    924173      924173    924173  924173"
      ]
     },
     "execution_count": 4,
     "metadata": {},
     "output_type": "execute_result"
    }
   ],
   "source": [
    "#Ausgabe der Anzahl der Medikationsverordnungen von 2016 bis 2020\n",
    "print(\"total number of orders for all years from 2016 until 2020: \",len(df_med_orders))\n",
    "\n",
    "df_med_orders.groupby(['CAT_MATCH']).count()"
   ]
  },
  {
   "cell_type": "code",
   "execution_count": 20,
   "id": "35fc42c1-99a1-43b0-a80c-a08322a67bf3",
   "metadata": {},
   "outputs": [
    {
     "name": "stdout",
     "output_type": "stream",
     "text": [
      "total number of orders for all years from 2016 until 2020 without no medication entries determined by rule set:  1607257\n",
      "total number of orders, that are not medication orders:  160896\n"
     ]
    }
   ],
   "source": [
    "# Filter: entfernen aller Einträge die nach den Regeln keine Medikationsverordnungen sind\n",
    "\n",
    "# Dataframe no_med generieren, welches nur die Verordnungen, die keine Medikationsverordnungen sind\n",
    "no_med = df_med_orders[(df_med_orders['MEDICATION'].str.strip().str.startswith('BE ') \n",
    "          | df_med_orders['MEDICATION'].str.strip().str.startswith('BE:')\n",
    "          | df_med_orders['MEDICATION'].str.strip().str.startswith('1 BE')\n",
    "          | df_med_orders['MEDICATION'].str.strip().str.startswith('BB ')\n",
    "          | df_med_orders['MEDICATION'].str.strip().str.startswith(\"!\"))]\n",
    "\n",
    "\n",
    "# aktualisiertes Dataframe nur mir tatsächlichen Medikationsverordnungen\n",
    "df_med_orders = df_med_orders[~(df_med_orders['MEDICATION'].str.strip().str.startswith('BE ') \n",
    "          | df_med_orders['MEDICATION'].str.strip().str.startswith('BE:')\n",
    "          | df_med_orders['MEDICATION'].str.strip().str.startswith('1 BE')\n",
    "          | df_med_orders['MEDICATION'].str.strip().str.startswith('BB ')\n",
    "          | df_med_orders['MEDICATION'].str.strip().str.startswith(\"!\"))]\n",
    "\n",
    "\n",
    "print(\"total number of orders for all years from 2016 until 2020 without no medication entries determined by rule set: \",len(df_med_orders))\n",
    "print(\"total number of orders, that are not medication orders: \",len(no_med))"
   ]
  },
  {
   "cell_type": "code",
   "execution_count": 21,
   "id": "2e066bba-fa09-40a1-b111-d9f80ae23b7a",
   "metadata": {},
   "outputs": [
    {
     "data": {
      "text/html": [
       "<div>\n",
       "<style scoped>\n",
       "    .dataframe tbody tr th:only-of-type {\n",
       "        vertical-align: middle;\n",
       "    }\n",
       "\n",
       "    .dataframe tbody tr th {\n",
       "        vertical-align: top;\n",
       "    }\n",
       "\n",
       "    .dataframe thead th {\n",
       "        text-align: right;\n",
       "    }\n",
       "</style>\n",
       "<table border=\"1\" class=\"dataframe\">\n",
       "  <thead>\n",
       "    <tr style=\"text-align: right;\">\n",
       "      <th></th>\n",
       "      <th>BK_MEDICATION_ORDER</th>\n",
       "      <th>MEDICATION</th>\n",
       "      <th>ATC_CODE</th>\n",
       "      <th>START_DATE</th>\n",
       "      <th>END_DATE</th>\n",
       "      <th>UNIT</th>\n",
       "    </tr>\n",
       "    <tr>\n",
       "      <th>CAT_MATCH</th>\n",
       "      <th></th>\n",
       "      <th></th>\n",
       "      <th></th>\n",
       "      <th></th>\n",
       "      <th></th>\n",
       "      <th></th>\n",
       "    </tr>\n",
       "  </thead>\n",
       "  <tbody>\n",
       "    <tr>\n",
       "      <th>Match</th>\n",
       "      <td>843980</td>\n",
       "      <td>843980</td>\n",
       "      <td>843980</td>\n",
       "      <td>843980</td>\n",
       "      <td>843980</td>\n",
       "      <td>843980</td>\n",
       "    </tr>\n",
       "    <tr>\n",
       "      <th>No Match</th>\n",
       "      <td>763277</td>\n",
       "      <td>763277</td>\n",
       "      <td>763277</td>\n",
       "      <td>763277</td>\n",
       "      <td>763277</td>\n",
       "      <td>763277</td>\n",
       "    </tr>\n",
       "  </tbody>\n",
       "</table>\n",
       "</div>"
      ],
      "text/plain": [
       "           BK_MEDICATION_ORDER  MEDICATION  ATC_CODE  START_DATE  END_DATE  \\\n",
       "CAT_MATCH                                                                    \n",
       "Match                   843980      843980    843980      843980    843980   \n",
       "No Match                763277      763277    763277      763277    763277   \n",
       "\n",
       "             UNIT  \n",
       "CAT_MATCH          \n",
       "Match      843980  \n",
       "No Match   763277  "
      ]
     },
     "execution_count": 21,
     "metadata": {},
     "output_type": "execute_result"
    }
   ],
   "source": [
    "#Gruppierung des aktualisierten Dataframes ohne die no_med Einträge nochmal gruppieren nach strukturierten und unstrukturierten Medikationsverordnungen\n",
    "\n",
    "df_med_orders.groupby(['CAT_MATCH']).count()"
   ]
  },
  {
   "cell_type": "code",
   "execution_count": 22,
   "id": "11a6b1ad-79be-4d11-9107-ad51e4d03231",
   "metadata": {},
   "outputs": [
    {
     "name": "stdout",
     "output_type": "stream",
     "text": [
      "total number of orders for all years from 2016 until 2020 STRUCTURED:  843980\n",
      "total number of orders for all years from 2016 until 2020 UNSTRUCTURED:  763277\n"
     ]
    }
   ],
   "source": [
    "#Ausgabe der Anzahl strukturierter und unstrukturierter Medikationsverordnungen nochmal separat.\n",
    "ana_med_orders = df_med_orders\n",
    "\n",
    "df_struct = ana_med_orders.loc[ana_med_orders['CAT_MATCH'] == \"Match\"]\n",
    "print(\"total number of orders for all years from 2016 until 2020 STRUCTURED: \",len(df_struct))\n",
    "df_unstruct = ana_med_orders.loc[ana_med_orders['CAT_MATCH'] == \"No Match\"]\n",
    "print(\"total number of orders for all years from 2016 until 2020 UNSTRUCTURED: \",len(df_unstruct))\n"
   ]
  },
  {
   "cell_type": "code",
   "execution_count": 23,
   "id": "9588a217-0306-4728-8eee-4a2b836ded24",
   "metadata": {},
   "outputs": [
    {
     "name": "stdout",
     "output_type": "stream",
     "text": [
      "this is the percentage of frequency reached at row 1000:  65.66\n",
      "this is the number of unstructured medication order amount at row 1000:  501183\n",
      "This is the percentage of total medication orders evaluated by taking the first 1000 most frequent unstructured medication orders for manual evaluation  and the already structured medication orders:  85.18\n"
     ]
    }
   ],
   "source": [
    "#unstrukturierte Medikamentenverordnungen nach der dem Freitext in der Spalte \"MEDICATION\"gruppieren und in einer separaten Spalte die Gesamtsumme berechnen\n",
    "#Ziel: Visualisierung der ersten 1000 Zeilen von unstrukturierten Medikamentenverordnungen und deren Häufigkeit nach Medikamententext\n",
    "\n",
    "df_unstruct = df_unstruct.assign(MEDICATION=df_unstruct['MEDICATION'].str.strip())\n",
    "\n",
    "\n",
    "df_unstruct = df_unstruct.groupby(['MEDICATION', 'ATC_CODE', 'CAT_MATCH'], as_index=False).size().sort_values(by='size', ascending=False)\n",
    "df_unstruct[\"cum_sum\"] = df_unstruct['size'].cumsum()\n",
    "\n",
    "Total = df_unstruct['size'].sum()\n",
    "df_unstruct[\"percent\"] = (df_unstruct['cum_sum'] / df_unstruct['size'].sum()) * 100\n",
    "df_unstruct = df_unstruct.reset_index(drop=True)\n",
    "df_unstruct\n",
    "\n",
    "print(\"this is the percentage of frequency reached at row 1000: \", df_unstruct[\"percent\"].iloc[999].round(decimals = 2))\n",
    "print(\"this is the number of unstructured medication order amount at row 1000: \", df_unstruct[\"cum_sum\"].iloc[999])\n",
    "\n",
    "\n",
    "print(\"This is the percentage of total medication orders evaluated by taking the first 1000 most frequent unstructured medication orders for manual evaluation  and the already structured medication orders: \",(((df_unstruct['cum_sum'].iloc[999]+len(df_struct)+len(no_med)) / len(df_med_orders_complete)) * 100).round(decimals = 2) )\n",
    "\n"
   ]
  },
  {
   "cell_type": "code",
   "execution_count": 24,
   "id": "31cbf826-9a52-450b-9c3e-86f368850751",
   "metadata": {},
   "outputs": [
    {
     "data": {
      "image/png": "[encoded data removed]",
      "text/plain": [
       "<Figure size 432x288 with 1 Axes>"
      ]
     },
     "metadata": {
      "needs_background": "light"
     },
     "output_type": "display_data"
    }
   ],
   "source": [
    "#Abbildung 4.10 (Kapitel Ergebnisse - 4.4.2.2 Ergebnisse der Validierung der Algorithmen)\n",
    "# Anzeige der Top1000 Eiträge, für die Durchführung der manuellen Validierung\n",
    "\n",
    "# Clear the current plot\n",
    "plt.clf()\n",
    "\n",
    "myplot = sns.lineplot(x = df_unstruct.index, y = \"percent\", data=df_unstruct)\n",
    "myplot.vlines(x=1000, ymin=0, ymax=100, colors='r', linewidth=0.5, linestyle='dashed')\n",
    "myplot.hlines(y=65.5666041423044, xmin=0, xmax=100000, colors='r', linewidth=0.5, linestyle='dashed')\n",
    "65.5666041423044\n",
    "\n",
    "myplot.get_xaxis().set_major_formatter(ticker.FuncFormatter(lambda x, p: format(int(x), ',')))\n",
    "\n",
    "\n",
    "myplot.set_xlabel('Anzahl unterschiedliche Freitexte in Medikationsverordnungen (Max 100.004)')\n",
    "myplot.set_ylabel('Prozent der Daten aus DS-Med unstrukturiert (%)')\n",
    "figure = myplot.get_figure()   \n",
    "figure.savefig('../data_results/Top1000.png', dpi=400, bbox_inches = \"tight\")"
   ]
  },
  {
   "cell_type": "code",
   "execution_count": 25,
   "id": "2e52ba5b-9e04-4a17-8863-8d1d7b76ca92",
   "metadata": {},
   "outputs": [],
   "source": [
    "#df_med_orders['MEDICATION'] = df_med_orders['MEDICATION'].str.strip()\n",
    "df_med_orders = df_med_orders.assign(MEDICATION=df_med_orders['MEDICATION'].str.strip())\n",
    "df_med_orders = df_med_orders.groupby(['MEDICATION', 'ATC_CODE', 'CAT_MATCH'], as_index=False).size().sort_values(by='size', ascending=False)\n",
    "\n",
    "\n",
    "# remove all rows of catalogue which do not have a given atc code\n",
    "df_catalogue = df_catalogue[df_catalogue[ATC] != str()]\n"
   ]
  },
  {
   "cell_type": "code",
   "execution_count": 26,
   "id": "c3a65f14-0470-4d61-9a68-7825d6cb6530",
   "metadata": {},
   "outputs": [],
   "source": [
    "# einiges an pre-processing für die Wirkstoffe, hier wird eine neue Spalte eingefügt, wenn eine PIPE in dem Textfeld von \"MEDICATION\" vorhanden ist\n",
    "\n",
    "abda = df_catalogue[ABDA]\n",
    "\n",
    "df_catalogue['ingredient'] = [str(ing).lower() if str(ing2) == str() else str(ing2).lower() \n",
    "                              for ing, ing2 in zip(df_catalogue['Wirkstoff'], df_catalogue['enstpr. Wirkstoff'])]\n",
    "\n",
    "# add boolean if ingredient is specified\n",
    "df_med_orders['PIPE'] = [int(True) if \"|\" in med else int(False) for med in df_med_orders['MEDICATION']]"
   ]
  },
  {
   "cell_type": "code",
   "execution_count": 27,
   "id": "8a5786bb-e680-4a25-a405-bf69450e9194",
   "metadata": {},
   "outputs": [],
   "source": [
    "def print_array(arr : List) -> str:\n",
    "    if isinstance(arr, str):\n",
    "        return arr\n",
    "    \n",
    "    s = str()\n",
    "    for i in arr:\n",
    "        s += str(i) + \" \" \n",
    "    \n",
    "    return s.rstrip()"
   ]
  },
  {
   "cell_type": "code",
   "execution_count": 28,
   "id": "bd5a3094-154b-4110-8e54-808f3d7cf843",
   "metadata": {},
   "outputs": [],
   "source": [
    "# extract ingredient -> format drugs etc. | (ingredient)\n",
    "\n",
    "def extract_ingredient(m : str) -> str:\n",
    "    med = m.split(\"|\")\n",
    "    \n",
    "    # was there a pipe in the string?\n",
    "    if len(med) == 1:\n",
    "        return str()\n",
    "    \n",
    "    # return ingredient in lower case and without brackets\n",
    "    return re.sub('\\s+',' ', med[-1]).lower().strip()[1:-1]\n",
    "    \n",
    "# if result is an empty string ingredient could still be in the medication name like ibuprofen\n",
    "df_med_orders['INGREDIENT'] = [extract_ingredient(x) for x in df_med_orders['MEDICATION'].tolist()]"
   ]
  },
  {
   "cell_type": "code",
   "execution_count": 29,
   "id": "337d858a-c70c-485f-ac90-0a5fae2a1db6",
   "metadata": {},
   "outputs": [],
   "source": [
    "def arr_to_len_three(arr):\n",
    "    arr = arr + [str()] * 3\n",
    "    return arr[:3]"
   ]
  },
  {
   "cell_type": "code",
   "execution_count": 30,
   "id": "fb87ef2d-99f1-49a6-92d3-e0eb996e3e76",
   "metadata": {},
   "outputs": [],
   "source": [
    "# Funktion für die drei Algorithmen\n",
    "def algorithm(med : str, ing : str) -> List[str]:\n",
    "    \n",
    "    if ing != str():\n",
    "        cat = df_catalogue[df_catalogue['ingredient'] == ing]\n",
    "        \n",
    "        # STEP 1 \n",
    "        step1 = np.unique(cat[ATC])\n",
    "        step1 = step1[0] if len(step1) == 1 else str()\n",
    "           \n",
    "    else: \n",
    "        cat = list()\n",
    "        step1 = str()\n",
    "    \n",
    "    \n",
    "    # remove the ingredient out of medication name -> not important for now because we extracted it\n",
    "    med = med.split('|')[0]\n",
    "    \n",
    "    med_spl = med.split()\n",
    "    # if there are more than 3 words, than just take the first 3, because these informations are more relevant \n",
    "    # and give better results\n",
    "    if len(med_spl) > 3:\n",
    "        med = print_array(med_spl[:3])\n",
    "\n",
    "    \n",
    "    # if there are no results \n",
    "    if not len(cat):\n",
    "        res_med = process.extract(med, abda, limit=3, scorer=fuzz.token_set_ratio)\n",
    "         \n",
    "    else:\n",
    "        res_med = process.extract(med, cat[ABDA].to_list(), limit=3, scorer=fuzz.token_set_ratio)\n",
    "        \n",
    "    \n",
    "    # we only need catalogue as df -> medication should only exist once in catalogue for the exact same string\n",
    "    df = pd.DataFrame()\n",
    "\n",
    "    for i in range(len(res_med)):\n",
    "        df = df.append(df_catalogue[df_catalogue[ABDA] == res_med[i][0]].iloc[0][['ABDA-Bezeichnung', 'ATC-DIM', 'ATC-WHO', 'DFO Bezeichnung', 'SAP-Kurztext']])\n",
    "        \n",
    "    # append the calculated values of the levenshtein distanc\n",
    "    df['value_lev'] = [i[1] for i in res_med]\n",
    "        \n",
    "    df = df.drop_duplicates(subset=[ATC])\n",
    "\n",
    "    # row = df[df[ATC] == codes[0]].iloc[0]\n",
    "    \n",
    "    # STEP 2\n",
    "    step2 = list(np.unique(df_catalogue[df_catalogue[ABDA].str.contains(med, case=False, regex=False)][ATC]))\n",
    "    step2 = step2[0] if len(step2) == 1 else str()\n",
    "\n",
    "    \n",
    "    \n",
    "    # return -> all ATC-DIM, ATC-WHO, Levenshtein Distances,      \n",
    "    return (step1,\n",
    "            step2,\n",
    "            arr_to_len_three(list(df[ATC])), \n",
    "            arr_to_len_three(list(df['ATC-WHO'])), \n",
    "            arr_to_len_three(list(df['value_lev'].astype(int))))\n",
    "\n"
   ]
  },
  {
   "cell_type": "code",
   "execution_count": 31,
   "id": "71913b8b-7634-4d1e-8fa6-d3cd18cb0563",
   "metadata": {},
   "outputs": [],
   "source": [
    "# Funktion um zu vergleichen ob die drei Algorithmen dieselben Ergebnisse zurückliefern\n",
    "def compare_rows(atc1, atc2, atc3=False):\n",
    "    if atc3 == False:\n",
    "        atc3 = atc1\n",
    "    \n",
    "    if pd.isnull(atc1) or pd.isnull(atc2) or pd.isnull(atc3):\n",
    "        return 0\n",
    "    elif atc1 == atc2 and atc1 == atc3:\n",
    "        return 1\n",
    "    else: #  np.isnan(atc1) or np.isnan(atc2) or not (atc1 == atc2):\n",
    "        return 2\n",
    "    "
   ]
  },
  {
   "cell_type": "code",
   "execution_count": 32,
   "id": "457d7b0e-de09-4243-870d-17670f9562a4",
   "metadata": {},
   "outputs": [],
   "source": [
    "# Main Funktion, die alle vorher definierten Funktionen nutzt\n",
    "\n",
    "def main(df):\n",
    "    # if ATC_CODE1 == ATC_CODE2 we got the right one\n",
    "    print(f'Length df -> : {len(df)}')\n",
    "\n",
    "    match = []\n",
    "    \n",
    "    meds = list(df['MEDICATION'])\n",
    "\n",
    "    df['INGREDIENT'] = [extract_ingredient(x) for x in meds]\n",
    "    \n",
    "    df = df.reset_index()\n",
    "    \n",
    "    for index, med in enumerate(tqdm(zip(df['MEDICATION'], df['INGREDIENT']))):\n",
    "        \n",
    "        arr = algorithm(med[0], med[1])\n",
    "        \n",
    "                \n",
    "        df.at[index, ['STEP1', 'STEP2']] = arr[:2]\n",
    "        df.at[index, ['STEP31', 'STEP32', 'STEP33']] = arr[2]\n",
    "        df.at[index, ['LEV1', 'LEV2', 'LEV3']] = arr[4]\n",
    "    \n",
    "    df['TRUE12'] = [compare_rows(atc1, atc2) for atc1, atc2 in zip(df['STEP1'], df['STEP2'])]                   \n",
    "    df['TRUE123'] = [compare_rows(atc1, atc2, atc3) for atc1, atc2, atc3 in zip(df['STEP1'], df['STEP2'], df['STEP31'])]\n",
    "    df['TRUE13'] = [compare_rows(atc1, atc2) for atc1, atc2 in zip(df['STEP1'], df['STEP31'])]\n",
    "    df['TRUE23'] = [compare_rows(atc1, atc2) for atc1, atc2 in zip(df['STEP2'], df['STEP31'])]\n",
    "    df['MATCH'] = [compare_rows(atc1, atc2) for atc1, atc2 in zip(df['ATC_CODE'], df['STEP31'])]\n",
    "\n",
    "    # adding first atc level as extra column\n",
    "    #df['ATC_LVL1_JOS'] = [atc[:1] for atc in df['ATC_JOS1']]\n",
    "    #df['ATC_LVL1_MAR'] = [atc[:1] for atc in df['ATC_CODE']]\n",
    "    df['LEV1'] = df['LEV1'].astype(int)\n",
    "    \n",
    "    return df\n"
   ]
  },
  {
   "cell_type": "code",
   "execution_count": 33,
   "id": "80fa9cff-1a54-4afe-b914-9115d9e09216",
   "metadata": {},
   "outputs": [
    {
     "name": "stdout",
     "output_type": "stream",
     "text": [
      "Length df -> : 101480\n"
     ]
    },
    {
     "name": "stderr",
     "output_type": "stream",
     "text": [
      "5129it [17:23,  4.92it/s]\n",
      "\n",
      "KeyboardInterrupt\n",
      "\n"
     ]
    }
   ],
   "source": [
    "df = df_med_orders\n",
    "\n",
    "#Aufruf Main\n",
    "res = main(df)\n",
    "del res['index']\n",
    "\n",
    "# Hinzufügen einer neuen Spalte, die nur das 1. Level von ATC enthält\n",
    "res['STEP31_LVL1'] = [atc[:1] for atc in res['STEP31']]\n",
    "res['ATC_CODE_LVL1'] = [atc[:1] for atc in res['ATC_CODE']]\n",
    "\n"
   ]
  },
  {
   "cell_type": "code",
   "execution_count": null,
   "id": "2cb120e4-bff4-44b0-b198-2ccf325e742d",
   "metadata": {},
   "outputs": [],
   "source": [
    "#Speicherung der Resultate der Algorithmen auf die Freitexte\n",
    "\n",
    "res.to_csv('../data_results/01_data_structure_results/res.csv', index=False)"
   ]
  },
  {
   "cell_type": "code",
   "execution_count": null,
   "id": "9c1e65ea-b398-4fad-b86c-90561804ad37",
   "metadata": {},
   "outputs": [],
   "source": [
    "#Generierung des Subsets der Ergebnisse nur für die unstrukturierten Medikationverordnungen\n",
    "\n",
    "res_un = res.loc[res['CAT_MATCH'] == \"No Match\"]"
   ]
  },
  {
   "cell_type": "code",
   "execution_count": null,
   "id": "abd1bf0a-900a-4972-8317-21fe678c91df",
   "metadata": {},
   "outputs": [],
   "source": [
    "#Limiiterung auf die ersten 1000 Zeilen\n",
    "\n",
    "res1000 = res_un.head(n=1000)"
   ]
  },
  {
   "cell_type": "code",
   "execution_count": null,
   "id": "8c0b5501-6c00-4d75-97e9-6a8908c5988d",
   "metadata": {},
   "outputs": [],
   "source": [
    "# Export und Speichern der kompletten Ergebnisse für die 1000 häufigsten Medikationsverordnungen\n",
    "\n",
    "res1000.to_csv('../data_results/01_data_structure_results/res1000.csv', index=False)"
   ]
  },
  {
   "cell_type": "code",
   "execution_count": null,
   "id": "d9853558-bd05-4ae6-bf7f-461f5ece8fe7",
   "metadata": {},
   "outputs": [],
   "source": [
    "# Zur Information nur einige Printouts:\n",
    "# Werden dann auch als Eingabewerte für die Visualisierung des Venn Charts, mit der Übereinstimmung der Anzahl der Ergebnisse zwischen den drei Algorithmen verwendet\n",
    "print(\"Number of of different txt entries algorithm 1 identified an ATC code: \", len(res_un.loc[res_un['STEP1']!='']))\n",
    "print(\"Total number of drug prescriptions algorithm 1 identified an ATC code: \", res_un[\"size\"].loc[res_un['STEP1']!=''].sum())\n",
    "print(\"Number of of different txt entries algorithm 2 identified an ATC code: \", len(res_un.loc[res_un['STEP2']!='']))\n",
    "print(\"Total number of drug prescriptions algorithm 2 identified an ATC code: \", res_un[\"size\"].loc[res_un['STEP2']!=''].sum())\n",
    "print(\"Number of of different txt entries algorithm 3 identified an ATC code: \", len(res_un.loc[res_un['STEP31']!='']))\n",
    "print(\"Total number of drug prescriptions algorithm 3 identified an ATC code: \", res_un[\"size\"].loc[res_un['STEP31']!=''].sum())\n",
    "print(\"****************************************************************************************************************\")\n",
    "print(\"Number of of different txt entries algorithm 1 + 2 results match: \", len(res_un.loc[res_un['TRUE12']==1].loc[res_un['STEP1']!='']))\n",
    "print(\"Total number of drug prescriptions algorithm 1 + 2 results match: \", res_un[\"size\"].loc[res_un['TRUE12']==1].loc[res_un['STEP1']!=''].sum())\n",
    "print(\"Number of of different txt entries algorithm 1 + 3 results match: \", len(res_un.loc[res_un['TRUE13']==1].loc[res_un['STEP1']!='']))\n",
    "print(\"Total number of drug prescriptions algorithm 1 + 3 results match: \", res_un[\"size\"].loc[res_un['TRUE13']==1].loc[res_un['STEP1']!=''].sum())\n",
    "print(\"Number of of different txt entries algorithm 2 + 3 results match: \", len(res_un.loc[res_un['TRUE23']==1].loc[res_un['STEP2']!='']))\n",
    "print(\"Total number of drug prescriptions algorithm 2 + 3 results match: \", res_un[\"size\"].loc[res_un['TRUE23']==1].loc[res_un['STEP2']!=''].sum())\n",
    "print(\"Number of of different txt entries algorithm 1 + 2 + 3 results match: \", len(res_un.loc[res_un['TRUE123']==1].loc[res_un['STEP2']!='']))\n",
    "print(\"Total number of drug prescriptions algorithm 1 + 2 + 3 results match: \", res_un[\"size\"].loc[res_un['TRUE123']==1].loc[res_un['STEP2']!=''].sum())\n",
    "print(\"****************************************************************************************************************\")\n",
    "print(\"TOP 1000 - Number of of different txt entries algorithm 1 + 2 results match: \", len(res1000.loc[res1000['TRUE12']==1].loc[res1000['STEP1']!='']))\n",
    "print(\"TOP 1000 - Total number of drug prescriptions algorithm 1 + 2 results match: \", res1000[\"size\"].loc[res1000['TRUE12']==1].loc[res1000['STEP1']!=''].sum())\n",
    "print(\"TOP 1000 - Number of of different txt entries algorithm 1 + 3 results match: \", len(res1000.loc[res1000['TRUE13']==1].loc[res1000['STEP1']!='']))\n",
    "print(\"TOP 1000 - Total number of drug prescriptions algorithm 1 + 3 results match: \", res1000[\"size\"].loc[res1000['TRUE13']==1].loc[res1000['STEP1']!=''].sum())\n",
    "print(\"TOP 1000 - Number of of different txt entries algorithm 2 + 3 results match: \", len(res1000.loc[res1000['TRUE23']==1].loc[res1000['STEP2']!='']))\n",
    "print(\"TOP 1000 - Total number of drug prescriptions algorithm 2 + 3 results match: \", res1000[\"size\"].loc[res1000['TRUE23']==1].loc[res1000['STEP2']!=''].sum())\n",
    "print(\"TOP 1000 - Number of of different txt entries algorithm 1 + 2 + 3 results match: \", len(res1000.loc[res1000['TRUE123']==1].loc[res1000['STEP2']!='']))\n",
    "print(\"TOP 1000 - Total number of drug prescriptions algorithm 1 + 2 + 3 results match: \", res1000[\"size\"].loc[res1000['TRUE123']==1].loc[res1000['STEP2']!=''].sum())\n",
    "print(\"****************************************************************************************************************\")\n",
    "print(\"TOP 1000 - Number of of different txt entries algorithm 1 identified an ATC code: \", len(res1000.loc[res1000['STEP1']!='']))\n",
    "print(\"TOP 1000 - Total number of drug prescriptions algorithm 1 identified an ATC code: \", res1000[\"size\"].loc[res1000['STEP1']!=''].sum())\n",
    "print(\"TOP 1000 - Number of of different txt entries algorithm 2 identified an ATC code: \", len(res1000.loc[res1000['STEP2']!='']))\n",
    "print(\"TOP 1000 - Total number of drug prescriptions algorithm 2 identified an ATC code: \", res1000[\"size\"].loc[res1000['STEP2']!=''].sum())\n",
    "print(\"TOP 1000 - Number of of different txt entries algorithm 3 identified an ATC code: \", len(res1000.loc[res1000['STEP31']!='']))\n",
    "print(\"TOP 1000 - Total number of drug prescriptions algorithm 3 identified an ATC code: \", res1000[\"size\"].loc[res1000['STEP31']!=''].sum())"
   ]
  }
 ],
 "metadata": {
  "kernelspec": {
   "display_name": "Python 3 (ipykernel)",
   "language": "python",
   "name": "python3"
  },
  "language_info": {
   "codemirror_mode": {
    "name": "ipython",
    "version": 3
   },
   "file_extension": ".py",
   "mimetype": "text/x-python",
   "name": "python",
   "nbconvert_exporter": "python",
   "pygments_lexer": "ipython3",
   "version": "3.9.1"
  }
 },
 "nbformat": 4,
 "nbformat_minor": 5
}
