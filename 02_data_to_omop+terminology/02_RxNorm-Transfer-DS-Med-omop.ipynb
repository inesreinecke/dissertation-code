{
 "cells": [
  {
   "cell_type": "markdown",
   "id": "bc5a33f5-a48a-48ec-8712-836ba0fbcd46",
   "metadata": {},
   "source": [
    "Dieser Quellcode ist Bestandteil der Dissertation von Ines Reinecke\n",
    "vorgelegt am 11.07.2023 der Technischen Universität Dresden, Medizinische Fakultät\n",
    "\n",
    "Dieser Code enthält \n",
    "\n",
    "1. laden des Datensatzes DS-Med (nach Durchführung der Maßnahmen zur Verbesserung der Datenstuktur) bereits im OMOP Format (Eingangsgröße hier das Ergebnis von Script 01_verbesserte-DS-Med-to-omop) \n",
    "2. Laden der ATC nach RxNorm Mappings\n",
    "3. Zusammenführen der Medikationsverordnungen mit den Mappings\n",
    "4. Speichern der Medikationsverordnungen, verbessert und mit den concept_ids in der Spalte drug_concept_id mit RxNorm Standard-Terminologie, wenn möglich - im OMOP Format"
   ]
  },
  {
   "cell_type": "code",
   "execution_count": 23,
   "id": "039621df-371f-406e-891d-8e53fc94a465",
   "metadata": {},
   "outputs": [],
   "source": [
    "import pandas as pd\n",
    "import numpy as np\n",
    "import os\n",
    "import datetime\n",
    "from fuzzywuzzy import fuzz, process\n",
    "import re\n",
    "from typing import List\n",
    "from tqdm import tqdm\n",
    "import seaborn as sns\n",
    "import matplotlib.pyplot as plt\n",
    "from matplotlib_venn import venn2, venn3, venn3_circles\n",
    "from pandas_profiling import ProfileReport\n",
    "# remove later\n",
    "import warnings\n",
    "import psycopg2\n",
    "from sqlalchemy import create_engine\n",
    "from sqlalchemy import text\n",
    "warnings.filterwarnings('ignore')"
   ]
  },
  {
   "cell_type": "code",
   "execution_count": null,
   "id": "1516faa5-5015-4700-aa5c-1a398000b336",
   "metadata": {},
   "outputs": [],
   "source": [
    "\n",
    "# Lesen der Medikationsverordnungen - bereits verbessert und im OMOP Format der Tabelle drug_exposure \n",
    "medication_orders = pd.read_csv('../data_results/02_data_to_omop+terminology_results/Schritt-2-DQD-DS-Med.csv', skipinitialspace=True, low_memory=False, lineterminator='\\n').fillna(str())\n"
   ]
  },
  {
   "cell_type": "code",
   "execution_count": null,
   "id": "479016ac-6adf-4f0b-bcb8-353e7c002334",
   "metadata": {},
   "outputs": [],
   "source": [
    "\n",
    "#  Lesen aller Mappings von ATC nach RxNorm mit den Beziehungstypen ATC - RxNorm pr lat, ATC - RxNorm pr up, ATC - RxNorm sec lat, ATC - RxNorm sec up, Maps to   \n",
    "atc_rxnorm_relationship = pd.read_csv('../data_in/ATC-RxNorm-Rel.csv', sep='\\t')\n",
    "\n",
    "# Reduzierung der Mappings auf den Beziehungstypen \"Maps To\"\n",
    "atc_rxnorm_relationship_mapsTo = atc_rxnorm_relationship.loc[atc_rxnorm_relationship['rel_id']=='Maps to']"
   ]
  },
  {
   "cell_type": "code",
   "execution_count": 6,
   "id": "787fd429-ba9c-457d-888d-b6d69a2965cd",
   "metadata": {},
   "outputs": [],
   "source": [
    "\n",
    "# Gruppierung der Mappings vom Typ \"Maps to\" nach der Anzahl der Mappings pro ATC Code \n",
    "atc_rxnorm_relationship_mapsTo_grouped = atc_rxnorm_relationship_mapsTo.groupby(['concept_id_atc', 'rel_id']).size().reset_index(name='count')\n"
   ]
  },
  {
   "cell_type": "code",
   "execution_count": 7,
   "id": "f0b84ad8-f9db-4a8a-8ffc-93f9a7cbf38c",
   "metadata": {},
   "outputs": [
    {
     "name": "stdout",
     "output_type": "stream",
     "text": [
      "Anzahl von ATC codes mit exakt 1 Mapping nach RxNorm 4285\n",
      "Anzahl von ATC codes mit exakt 2 Mappings nach RxNorm 290\n",
      "Anzahl von ATC codes mit exakt 3 Mappings nach RxNorm 77\n",
      "Anzahl von ATC codes mehr als 3 Mappings nach RxNorm 26\n"
     ]
    }
   ],
   "source": [
    "print (\"Anzahl von ATC codes mit exakt 1 Mapping nach RxNorm\",len(atc_rxnorm_relationship_mapsTo_grouped.loc[atc_rxnorm_relationship_mapsTo_grouped['count']==1]))\n",
    "print (\"Anzahl von ATC codes mit exakt 2 Mappings nach RxNorm\",len(atc_rxnorm_relationship_mapsTo_grouped.loc[atc_rxnorm_relationship_mapsTo_grouped['count']==2]))\n",
    "print (\"Anzahl von ATC codes mit exakt 3 Mappings nach RxNorm\",len(atc_rxnorm_relationship_mapsTo_grouped.loc[atc_rxnorm_relationship_mapsTo_grouped['count']==3]))\n",
    "print (\"Anzahl von ATC codes mehr als 3 Mappings nach RxNorm\",len(atc_rxnorm_relationship_mapsTo_grouped.loc[atc_rxnorm_relationship_mapsTo_grouped['count']>3]))"
   ]
  },
  {
   "cell_type": "code",
   "execution_count": 8,
   "id": "342b8782-7c17-4870-bb24-6bbdb1678df7",
   "metadata": {},
   "outputs": [],
   "source": [
    "# Reduzierung des Dataframes mit den Mappings von ATC nach RxNorm auf die zwei Spalten mit den concept_ids\n",
    "# in dem Dataframe können die ATC Codes mehrfach vorkommen - sie haben dann mehr als ein explizites Mapping nach RxNorm \n",
    "\n",
    "atc_rxnorm_relationship_mapsTo = atc_rxnorm_relationship_mapsTo[['concept_id_atc','concept_id_rx']]"
   ]
  },
  {
   "cell_type": "code",
   "execution_count": 9,
   "id": "d2f0c460-a9e4-450f-b3e5-f0ff89259057",
   "metadata": {},
   "outputs": [],
   "source": [
    "\n",
    "# Neues Dataframe, welches die Anzahl der expliziten Mappings von ATC Codes nach RxNorm enthält\n",
    "atc_rxnorm_relationship_mapsTo_grouped = atc_rxnorm_relationship_mapsTo_grouped[['concept_id_atc','count']]\n"
   ]
  },
  {
   "cell_type": "code",
   "execution_count": 10,
   "id": "de1920ee-bf48-4165-986b-5a6092da1585",
   "metadata": {},
   "outputs": [],
   "source": [
    "# Zusammenführunge der Medikationsverordnungen im OMOP Format mit den Mappings nach RxNorm, aber nur die gruppierte Variante, um zu prüfen, wieviele Medikationsverordnungen einen ATC Code haben, der zu mehr als einem RxNorm Code explizit gemappt wird\n",
    "\n",
    "rxnorm_medication_orders_conform_check_number = pd.merge(medication_orders, atc_rxnorm_relationship_mapsTo_grouped, left_on=\"drug_source_concept_id\", right_on=\"concept_id_atc\", how=\"left\")"
   ]
  },
  {
   "cell_type": "code",
   "execution_count": 13,
   "id": "d4e1a901-e799-4c48-bffc-5a9b67bcebbc",
   "metadata": {},
   "outputs": [],
   "source": [
    "\n",
    "# Auffüllen des generierten Dataframes mit 0 Werten, wenn keine Anzahl an Mappings existiert, also alle ATC Codes in den Medikationsverordnungen ohne explizites Mapping nach RxNorm\n",
    "rxnorm_medication_orders_conform_check_number[\"count\"] = rxnorm_medication_orders_conform_check_number[\"count\"].fillna(0)\n",
    "\n",
    "\n",
    "# Änderung des Datentyps der Spalte \"count\" nach Integer                                                              \n",
    "rxnorm_medication_orders_conform_check_number['count'] = rxnorm_medication_orders_conform_check_number['count'].astype('Int64')"
   ]
  },
  {
   "cell_type": "code",
   "execution_count": 14,
   "id": "5cbe104c-f235-44be-ad35-9dd1ec677d60",
   "metadata": {},
   "outputs": [
    {
     "name": "stdout",
     "output_type": "stream",
     "text": [
      "Number of medication orders without mapping to RxNorm:  598823\n",
      "Number of medication orders with mapping to RxNorm:  1155692\n",
      "Number of medication orders with mapping to RxNorm:  13632\n",
      "Number of medication orders with mapping to RxNorm:  6\n",
      "Number of medication orders with mapping to RxNorm:  0\n",
      "Number of medication orders with at least one mapping to RxNorm via Maps to:  1169330\n"
     ]
    }
   ],
   "source": [
    "print(\"Number of medication orders without mapping to RxNorm: \",len(rxnorm_medication_orders_conform_check_number.loc[rxnorm_medication_orders_conform_check_number[\"count\"]==0]))\n",
    "print(\"Number of medication orders with mapping to RxNorm: \",len(rxnorm_medication_orders_conform_check_number.loc[rxnorm_medication_orders_conform_check_number[\"count\"]==1]))\n",
    "print(\"Number of medication orders with mapping to RxNorm: \",len(rxnorm_medication_orders_conform_check_number.loc[rxnorm_medication_orders_conform_check_number[\"count\"]==2]))\n",
    "print(\"Number of medication orders with mapping to RxNorm: \",len(rxnorm_medication_orders_conform_check_number.loc[rxnorm_medication_orders_conform_check_number[\"count\"]==3]))\n",
    "print(\"Number of medication orders with mapping to RxNorm: \",len(rxnorm_medication_orders_conform_check_number.loc[rxnorm_medication_orders_conform_check_number[\"count\"]>3]))\n",
    "print(\"Number of medication orders with at least one mapping to RxNorm via Maps to: \",len(rxnorm_medication_orders_conform_check_number.loc[rxnorm_medication_orders_conform_check_number[\"count\"]>0]))"
   ]
  },
  {
   "cell_type": "code",
   "execution_count": 16,
   "id": "33a6be0e-7e8c-42d8-8cb0-01f509dc372f",
   "metadata": {},
   "outputs": [],
   "source": [
    "\n",
    "# Die Medikamentenverordnungen werden mit den RxNorm-Zuordnungen aus dem Vokabular zusammengeführt. \n",
    "# Dadurch wird das ursprüngliche DataFrame der Medikamentenverordnungen um zusätzliche Zeilen erweitert, abhängig von der Anzahl der zusätzlichen Zuordnungen. \n",
    "# Es werden sowohl 1-zu-2- als auch 1-zu-3-Zuordungen von ATC zu RxNorm berücksichtigt.\n",
    "\n",
    "rxnorm_medication_orders_omop_rxnorm = pd.merge(medication_orders, atc_rxnorm_relationship_mapsTo, left_on=\"drug_source_concept_id\", right_on=\"concept_id_atc\", how=\"left\")"
   ]
  },
  {
   "cell_type": "code",
   "execution_count": 17,
   "id": "0acde39c-61c8-4805-8040-1cdffb1b56f8",
   "metadata": {},
   "outputs": [],
   "source": [
    "\n",
    "# Auffüllen aller Nan Werte mit 0\n",
    "rxnorm_medication_orders_omop_rxnorm[[\"concept_id_atc\",\"concept_id_rx\"]] = rxnorm_medication_orders_omop_rxnorm[[\"concept_id_atc\",\"concept_id_rx\"]].fillna(0)"
   ]
  },
  {
   "cell_type": "code",
   "execution_count": 18,
   "id": "a86d2e5e-6619-4901-bb0e-a98ba159bc32",
   "metadata": {},
   "outputs": [],
   "source": [
    "\n",
    "# Überführen des Wertes für die durg_concept_id aus der Spalte concept_id_rx im Falle diese Spalte ist nicht leer\n",
    "rxnorm_medication_orders_omop_rxnorm['drug_concept_id'] = np.where(\n",
    "    rxnorm_medication_orders_omop_rxnorm['concept_id_rx'].notnull(),\n",
    "    rxnorm_medication_orders_omop_rxnorm['concept_id_rx'],\n",
    "    rxnorm_medication_orders_omop_rxnorm['drug_concept_id']\n",
    ")\n",
    "\n",
    "# Entfernen der überflüssigen Spalten aus dem Dataframe der Medikationsverordnugnen nach der Zusammenführung mit den RxNorm Codes\n",
    "rxnorm_medication_orders_omop_rxnorm=rxnorm_medication_orders_omop_rxnorm.drop(['concept_id_rx','concept_id_atc'], axis=1)"
   ]
  },
  {
   "cell_type": "code",
   "execution_count": 19,
   "id": "5dcc23e3-8d83-4125-84cb-aebb4463aee8",
   "metadata": {},
   "outputs": [
    {
     "name": "stdout",
     "output_type": "stream",
     "text": [
      "Neue Anzahl an Medikationsverordnungen in der Tabelle drug_exposure (durch die Vervielfältigung aufgrund von multi Mappings von ATC nach RxNorm):  1781797\n"
     ]
    }
   ],
   "source": [
    "\n",
    "print(\"Neue Anzahl an Medikationsverordnungen in der Tabelle drug_exposure (durch die Vervielfältigung aufgrund von multi Mappings von ATC nach RxNorm): \",len(rxnorm_medication_orders_omop_rxnorm))\n"
   ]
  },
  {
   "cell_type": "code",
   "execution_count": 20,
   "id": "a66c6282-a9d0-4253-8434-eefdd7283994",
   "metadata": {},
   "outputs": [],
   "source": [
    "\n",
    "# Aufgrund der Duplikation bestimmter Einträge von Medikationsverordnungen, bei expliziten MultiMappings nach RxNorm, muss die eindeutige ID in der OMOP Tabelle drug_exposure wieder mit eindeutigen IDs generiert werden\n",
    "# erfolgt hier auf Basis des Index des Dataframes\n",
    "\n",
    "rxnorm_medication_orders_omop_rxnorm['drug_exposure_id'] = rxnorm_medication_orders_omop_rxnorm.index\n"
   ]
  },
  {
   "cell_type": "code",
   "execution_count": 21,
   "id": "1eff50ec-372c-419e-a910-3b85e77fd79b",
   "metadata": {},
   "outputs": [],
   "source": [
    "\n",
    "# Änderung eines Datentyps der Spalte \"drug_concept_id\" im Dataframe der OMOP konformen Medikationsverordnungen                                                              \n",
    "rxnorm_medication_orders_omop_rxnorm['drug_concept_id'] = rxnorm_medication_orders_omop_rxnorm['drug_concept_id'].astype('Int64')"
   ]
  },
  {
   "cell_type": "code",
   "execution_count": 22,
   "id": "5efc9bcf-8c10-4ca8-b8a5-4a24d32ea8e6",
   "metadata": {},
   "outputs": [],
   "source": [
    "\n",
    "# Speichern der Medikationsverordnungen für die OMOP Tabelle drug_exposure\n",
    "rxnorm_medication_orders_omop_rxnorm.to_csv('../data_results/02_data_to_omop+terminology_results/Schritt-3-DQD-DS-Med.csv', index=False)"
   ]
  },
  {
   "cell_type": "code",
   "execution_count": null,
   "id": "2f2668d5-2613-4465-8906-18fbe7ff44f4",
   "metadata": {},
   "outputs": [],
   "source": []
  }
 ],
 "metadata": {
  "kernelspec": {
   "display_name": "Python 3 (ipykernel)",
   "language": "python",
   "name": "python3"
  },
  "language_info": {
   "codemirror_mode": {
    "name": "ipython",
    "version": 3
   },
   "file_extension": ".py",
   "mimetype": "text/x-python",
   "name": "python",
   "nbconvert_exporter": "python",
   "pygments_lexer": "ipython3",
   "version": "3.9.1"
  }
 },
 "nbformat": 4,
 "nbformat_minor": 5
}
